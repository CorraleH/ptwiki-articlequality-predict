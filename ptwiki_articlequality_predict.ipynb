{
  "nbformat": 4,
  "nbformat_minor": 0,
  "metadata": {
    "colab": {
      "provenance": [],
      "authorship_tag": "ABX9TyP5UAgM3A7p0w1KnGitq76x",
      "include_colab_link": true
    },
    "kernelspec": {
      "name": "python3",
      "display_name": "Python 3"
    },
    "language_info": {
      "name": "python"
    }
  },
  "cells": [
    {
      "cell_type": "markdown",
      "metadata": {
        "id": "view-in-github",
        "colab_type": "text"
      },
      "source": [
        "<a href=\"https://colab.research.google.com/github/HectorGabriel27/fono/blob/main/ptwiki_articlequality_predict.ipynb\" target=\"_parent\"><img src=\"https://colab.research.google.com/assets/colab-badge.svg\" alt=\"Open In Colab\"/></a>"
      ]
    },
    {
      "cell_type": "code",
      "execution_count": null,
      "metadata": {
        "id": "L3vQ16bvx76y"
      },
      "outputs": [],
      "source": [
        "import json\n",
        "import requests\n",
        "\n",
        "use_auth = False\n",
        "inference_url = 'https://api.wikimedia.org/service/lw/inference/v1/models/enwiki-articlequality:predict'\n",
        "\n",
        "if use_auth:\n",
        "  headers: {\n",
        "      'Authorization': 'Bearer YOUR_ACCESS_TOKEN',\n",
        "      'User-Agent': 'YOUR_APP_NAME (YOUR_EMAIL_OR_CONTACT_PAGE)'\n",
        "  }\n",
        "else:\n",
        "  headers = {}\n",
        "data = {\"rev_id\": 12345 }\n",
        "response = requests.post(inference_url, headers=headers, data=json.dumps(data))\n",
        "print(response.json())"
      ]
    }
  ]
}